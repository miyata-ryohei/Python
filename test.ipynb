# [1]
print(f"Hello world")
